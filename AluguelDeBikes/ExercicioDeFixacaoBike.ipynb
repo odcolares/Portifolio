{
 "cells": [
  {
   "cell_type": "code",
   "execution_count": null,
   "metadata": {},
   "outputs": [],
   "source": [
    "# importando as bibliotecas\n",
    "import pandas as pd\n",
    "import plotly.express as px"
   ]
  },
  {
   "cell_type": "code",
   "execution_count": null,
   "metadata": {},
   "outputs": [],
   "source": [
    "excel_file = pd.ExcelFile(\"C:/Users/odair.colares/Documents/1_AnalistaDeDados/ArqExcel`s/bike.xlsx\")\n",
    "df = pd.read_excel(excel_file, sheet_name='bike-sharing')\n",
    "df.head()"
   ]
  },
  {
   "cell_type": "code",
   "execution_count": null,
   "metadata": {},
   "outputs": [],
   "source": [
    "# Tamanho desse dataset (número de linhas, número de colunas)? \n",
    "df.shape"
   ]
  },
  {
   "cell_type": "code",
   "execution_count": null,
   "metadata": {},
   "outputs": [],
   "source": [
    "# Qual a média da coluna windspeed? \n",
    "df['windspeed'].mean().round(2)"
   ]
  },
  {
   "cell_type": "code",
   "execution_count": null,
   "metadata": {},
   "outputs": [],
   "source": [
    "#Qual a média da coluna temp?\n",
    "df['temp'].mean().round(3)"
   ]
  },
  {
   "cell_type": "code",
   "execution_count": null,
   "metadata": {},
   "outputs": [],
   "source": [
    "# Quantos registros de locações existem para o ano de 2011 (número de linhas, número de colunas)? \n",
    "df[df.year == 0].shape\n",
    "# Quantos registros de locações existem para o ano de 2012 (número de linhas, número de colunas)?\n",
    "df[df.year == 1].shape"
   ]
  },
  {
   "cell_type": "code",
   "execution_count": null,
   "metadata": {},
   "outputs": [],
   "source": [
    "# Quantas locações de bicicletas foram efetuadas em 2011?\n",
    "df[df.year == 0].total_count.sum()"
   ]
  },
  {
   "cell_type": "code",
   "execution_count": null,
   "metadata": {},
   "outputs": [],
   "source": [
    "# Quantas locações de bicicletas foram efetuadas em 20121? \n",
    "df[df.year == 1].total_count.sum()"
   ]
  },
  {
   "cell_type": "code",
   "execution_count": null,
   "metadata": {},
   "outputs": [],
   "source": [
    "# Qual estação do ano contém a maior média de locações de bicicletas? HELP SITE\n",
    "df2 = df.groupby(['season']).total_count.mean().round(3).sort_values(ascending=False).reset_index()\n",
    "px.bar(df2, x='total_count', y= 'season')"
   ]
  },
  {
   "cell_type": "code",
   "execution_count": null,
   "metadata": {},
   "outputs": [],
   "source": [
    "# Qual estação do ano contém a menor média de locações de bicicletas? \n",
    "df.groupby(['season']).total_count.mean().round(3).sort_values(ascending=True).reset_index()"
   ]
  },
  {
   "cell_type": "code",
   "execution_count": null,
   "metadata": {},
   "outputs": [],
   "source": [
    "# Qual horário do dia contém a maior média de locações de bicicletas?\n",
    "df.groupby(['hour']).total_count.mean().round(2).sort_values(ascending=False).reset_index()"
   ]
  },
  {
   "cell_type": "code",
   "execution_count": null,
   "metadata": {},
   "outputs": [],
   "source": [
    "# Qual horário do dia contém a menor média de locações de bicicletas?\n",
    "df.groupby(['hour']).total_count.mean().round(2).sort_values(ascending=True).reset_index()"
   ]
  },
  {
   "cell_type": "code",
   "execution_count": null,
   "metadata": {},
   "outputs": [],
   "source": [
    "# Que dia da semana contém a maior média de locações de bicicletas? \n",
    "df.groupby(['weekday']).total_count.mean().round(2).sort_values(ascending=False).reset_index()"
   ]
  },
  {
   "cell_type": "code",
   "execution_count": null,
   "metadata": {},
   "outputs": [],
   "source": [
    "# Que dia da semana contém a menor média de locações de bicicletas? \n",
    "df.groupby(['weekday']).total_count.mean().round(2).sort_values(ascending=True)"
   ]
  },
  {
   "cell_type": "code",
   "execution_count": null,
   "metadata": {},
   "outputs": [],
   "source": [
    "#Às quartas-feiras (weekday = 3), qual o horário do dia contém a maior média de locações de bicicletas? \n",
    "df[df.weekday == 3].groupby(['hour']).total_count.mean().round(2).sort_values(ascending=False).reset_index()\n"
   ]
  },
  {
   "cell_type": "code",
   "execution_count": null,
   "metadata": {},
   "outputs": [],
   "source": [
    "# Aos sábados (weekday = 6), qual o horário do dia contém a maior média de locações de bicicletas? \n",
    "df2 = df[df.weekday == 6].groupby(['hour']).total_count.mean().round(2).sort_values(ascending=False).reset_index()"
   ]
  },
  {
   "cell_type": "code",
   "execution_count": null,
   "metadata": {},
   "outputs": [],
   "source": [
    "df[df.is_holiday == 0]"
   ]
  }
 ],
 "metadata": {
  "interpreter": {
   "hash": "570feb405e2e27c949193ac68f46852414290d515b0ba6e5d90d076ed2284471"
  },
  "kernelspec": {
   "display_name": "Python 3.8.6 64-bit",
   "language": "python",
   "name": "python3"
  },
  "language_info": {
   "codemirror_mode": {
    "name": "ipython",
    "version": 3
   },
   "file_extension": ".py",
   "mimetype": "text/x-python",
   "name": "python",
   "nbconvert_exporter": "python",
   "pygments_lexer": "ipython3",
   "version": "3.8.6"
  },
  "orig_nbformat": 4
 },
 "nbformat": 4,
 "nbformat_minor": 2
}
