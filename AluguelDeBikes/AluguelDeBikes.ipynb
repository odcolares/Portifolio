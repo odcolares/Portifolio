{
 "cells": [
  {
   "cell_type": "markdown",
   "metadata": {},
   "source": [
    "<link rel=\"stylesheet\" href=\"https://cdn.jsdelivr.net/npm/bootstrap@4.6.1/dist/css/bootstrap.min.css\">\n",
    "\n",
    "###  **👨🏽‍💻_Desafio DataScience_👨🏽‍💻**\n",
    "\n",
    "### <div class=\"container\">\n",
    "   <p class=\"text-warning\">⚠️⚠️Realizar a análise de uma base de dados real utilizando Python e conceitos de datascience⚠️⚠️</p>\n",
    "</div>"
   ]
  },
  {
   "cell_type": "markdown",
   "metadata": {},
   "source": [
    "### **_Responder as seguintes questões:_**\n",
    "#### a. Qual o tamanho desse dataset? ✅\n",
    "#### b. Qual a média da coluna windspeed? ✅\n",
    "#### c. Qual a média da coluna temp? ✅\n",
    "#### d. Quantos registros existem para o ano de 2011? ✅\n",
    "#### e. Quantos registros existem para o ano de 2012? ✅\n",
    "#### f. Quantas locações de bicicletas foram efetuadas em 2011? ✅\n",
    "#### g. Quantas locações de bicicletas foram efetuadas em 2012? ✅\n",
    "#### h. Qual estação do ano contém a maior média de locações de bicicletas? ✅\n",
    "#### i. Qual estação do ano contém a menor média de locações de bicicletas? ✅\n",
    "#### j. Qual horário do dia contém a maior média de locações de bicicletas? ✅\n",
    "#### k. Qual horário do dia contém a menor média de locações de bicicletas? ✅\n",
    "#### l. Que dia da semana contém a maior média de locações de bicicletas?  ✅\n",
    "#### m. Que dia da semana contém a menor média de locações de bicicletas?  ✅\n",
    "#### n. Às quartas-feiras (weekday = 3), qual o horário do dia contém a maior média de locações de bicicletas? ✅\n",
    "#### o. Aos sábados (weekday = 6), qual o horário do dia contém a maior média de locações de bicicletas? ✅"
   ]
  },
  {
   "cell_type": "code",
   "execution_count": null,
   "metadata": {},
   "outputs": [],
   "source": [
    "# Importando bibliotecas\n",
    "import numpy as np\n",
    "import pandas as pd"
   ]
  },
  {
   "cell_type": "code",
   "execution_count": null,
   "metadata": {},
   "outputs": [],
   "source": [
    "df = pd.read_csv(\"https://pycourse.s3.amazonaws.com/bike-sharing.csv\")\n",
    "df.head()"
   ]
  },
  {
   "cell_type": "code",
   "execution_count": null,
   "metadata": {},
   "outputs": [],
   "source": [
    "# Qual o tamanho desse dataset?\n",
    "tm = df.shape\n",
    "print(\"O tamanho do Dataset é: \", tm)"
   ]
  },
  {
   "cell_type": "code",
   "execution_count": null,
   "metadata": {},
   "outputs": [],
   "source": [
    "# Qual a média da coluna windspeed?\n",
    "md = df['windspeed'].mean().round(3)\n",
    "print(\"A media da coluna windspeed será: \", md)"
   ]
  },
  {
   "cell_type": "code",
   "execution_count": null,
   "metadata": {},
   "outputs": [],
   "source": [
    "# Qual a média da coluna temp?\n",
    "m = df['temp'].mean().round(4)\n",
    "print(\"A media da coluna temp será: \", m)"
   ]
  },
  {
   "cell_type": "code",
   "execution_count": null,
   "metadata": {},
   "outputs": [],
   "source": [
    "# Quantos registros existem para o ano de 2011 e 2012?\n",
    "df['year'].value_counts() #TRAS A CONTAGEM SIMPLES DA COLUNA YEAR (0 = 2011, 1 = 2012)\n",
    "\n",
    "#df.loc[df['year'] == 1].value_counts() #TRAS O DATASET COMPLETO SOMENTE COM O FILTRO DA COLUNA YEAR (0 = 2011, 1 = 2012)"
   ]
  },
  {
   "cell_type": "code",
   "execution_count": null,
   "metadata": {},
   "outputs": [],
   "source": [
    "# Quantas locações de bicicletas foram efetuadas em 2011 e 2012?\n",
    "# YEAR (0 = 2011, 1 = 2012)\n",
    "df.loc[df[\"year\"] == 1, \"total_count\"].sum()"
   ]
  },
  {
   "cell_type": "code",
   "execution_count": null,
   "metadata": {},
   "outputs": [],
   "source": [
    "# Qual estação do ano contém a MAIOR e MENOR média de locações de bicicletas?\n",
    "# Estações do ano:\n",
    "# 1: inverno,\n",
    "# 2: primavera, \n",
    "# 3: verão, \n",
    "# 4: outono.\n",
    "\n",
    "df.groupby('season')['total_count'].mean().sort_values(ascending=False)"
   ]
  },
  {
   "cell_type": "code",
   "execution_count": null,
   "metadata": {},
   "outputs": [],
   "source": [
    "# Qual horário do dia contém a MAIOR e MENOR média de locações de bicicletas?\n",
    "# Os hrs são apresentados de 0 a 23 na coluna HOUR.\n",
    "df.groupby(\"hour\")[\"total_count\"].mean().sort_values(ascending=False)"
   ]
  },
  {
   "cell_type": "code",
   "execution_count": null,
   "metadata": {},
   "outputs": [],
   "source": [
    "# Que dia da semana contém a MAIOR E MENOR média de locações de bicicletas?\n",
    "# weekday (dia da semana):\n",
    "# 0: domingo, \n",
    "# 1: segunda-feira,\n",
    "# 2: terça-feira,\n",
    "# 3: quarta-feira,\n",
    "# 4: quinta-feira,\n",
    "# 5: sexta-feira,\n",
    "#  …, 6: sábado).\n",
    "\n",
    "df.groupby(\"weekday\")[\"total_count\"].mean().sort_values(ascending=False)"
   ]
  },
  {
   "cell_type": "code",
   "execution_count": null,
   "metadata": {},
   "outputs": [],
   "source": [
    "# Às quartas-feiras (weekday = 3), qual o horário do dia contém a maior média de locações de bicicletas?\n",
    "df.loc[df[\"weekday\"] == 3].groupby(\"hour\")[\"total_count\"].mean().sort_values(ascending=False)"
   ]
  },
  {
   "cell_type": "code",
   "execution_count": null,
   "metadata": {},
   "outputs": [],
   "source": [
    "# Aos sábados (weekday = 6), qual o horário do dia contém a maior média de locações de bicicletas?\n",
    "df.loc[df[\"weekday\"] == 6].groupby(\"hour\")[\"total_count\"].mean().sort_values(ascending=False)"
   ]
  }
 ],
 "metadata": {
  "kernelspec": {
   "display_name": "Python 3.9.13 64-bit",
   "language": "python",
   "name": "python3"
  },
  "language_info": {
   "codemirror_mode": {
    "name": "ipython",
    "version": 3
   },
   "file_extension": ".py",
   "mimetype": "text/x-python",
   "name": "python",
   "nbconvert_exporter": "python",
   "pygments_lexer": "ipython3",
   "version": "3.9.13"
  },
  "orig_nbformat": 4,
  "vscode": {
   "interpreter": {
    "hash": "925c41cbcae24cc991eed430936085e5b41430f6c5eee43fd366ca5ef9b1a7d8"
   }
  }
 },
 "nbformat": 4,
 "nbformat_minor": 2
}
