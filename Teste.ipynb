{
 "cells": [
  {
   "cell_type": "markdown",
   "metadata": {},
   "source": [
    "## Repositorio de projetos..."
   ]
  }
 ],
 "metadata": {
  "kernelspec": {
   "display_name": "Python 3.9.13 64-bit",
   "language": "python",
   "name": "python3"
  },
  "language_info": {
   "name": "python",
   "version": "3.9.13"
  },
  "orig_nbformat": 4,
  "vscode": {
   "interpreter": {
    "hash": "925c41cbcae24cc991eed430936085e5b41430f6c5eee43fd366ca5ef9b1a7d8"
   }
  }
 },
 "nbformat": 4,
 "nbformat_minor": 2
}
